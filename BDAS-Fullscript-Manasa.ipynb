{
 "cells": [
  {
   "cell_type": "code",
   "execution_count": 1,
   "metadata": {},
   "outputs": [],
   "source": [
    "#####\n",
    "##IMPORT NECESSARY LIBRARIES\n",
    "#####\n",
    "\n",
    "import findspark\n",
    "findspark.init('/home/ubuntu/spark-2.1.1-bin-hadoop2.7')\n",
    "import pyspark\n",
    "from __future__ import print_function\n",
    "import sys\n",
    "from operator import add\n",
    "from pyspark.sql import SparkSession\n",
    "from pyspark.sql.types import *\n",
    "spark = SparkSession.builder.appName('mrao999-test').getOrCreate()\n",
    "from pyspark.sql.types import (\n",
    "    StructType,\n",
    "    StructField,\n",
    "    StringType\n",
    ")"
   ]
  },
  {
   "cell_type": "code",
   "execution_count": 2,
   "metadata": {},
   "outputs": [],
   "source": [
    "\n",
    "##### READ THE CSV FILE\n",
    "##### DATAFRAME: kickstart\n",
    "kickstart= spark.read.option(\"multiline\",\"true\").option(\"header\", \"true\").option(\"delimiter\", \",\").option(\"inferSchema\", \"true\").csv('./MasterKickstarter.csv')"
   ]
  },
  {
   "cell_type": "code",
   "execution_count": 3,
   "metadata": {},
   "outputs": [
    {
     "data": {
      "text/plain": [
       "102561"
      ]
     },
     "execution_count": 3,
     "metadata": {},
     "output_type": "execute_result"
    }
   ],
   "source": [
    "##### OBTAIN THE ROW/RECORD COUNT\n",
    "kickstart.count()\n"
   ]
  },
  {
   "cell_type": "code",
   "execution_count": 4,
   "metadata": {},
   "outputs": [
    {
     "data": {
      "text/plain": [
       "57"
      ]
     },
     "execution_count": 4,
     "metadata": {},
     "output_type": "execute_result"
    }
   ],
   "source": [
    "##### OBTAIN THE COLUMN COUNT\n",
    "len(kickstart.columns)"
   ]
  },
  {
   "cell_type": "code",
   "execution_count": 5,
   "metadata": {},
   "outputs": [
    {
     "name": "stdout",
     "output_type": "stream",
     "text": [
      "root\n",
      " |-- _c0: string (nullable = true)\n",
      " |-- X1: string (nullable = true)\n",
      " |-- X1_1: string (nullable = true)\n",
      " |-- Country: string (nullable = true)\n",
      " |-- City: string (nullable = true)\n",
      " |-- id: string (nullable = true)\n",
      " |-- name: string (nullable = true)\n",
      " |-- blurb: string (nullable = true)\n",
      " |-- goal: string (nullable = true)\n",
      " |-- pledged: string (nullable = true)\n",
      " |-- status: string (nullable = true)\n",
      " |-- slug: string (nullable = true)\n",
      " |-- disable_communication: string (nullable = true)\n",
      " |-- currency: string (nullable = true)\n",
      " |-- currency_symbol: string (nullable = true)\n",
      " |-- currency_trailing_code: string (nullable = true)\n",
      " |-- deadline: string (nullable = true)\n",
      " |-- state_changed_at: string (nullable = true)\n",
      " |-- created_at: string (nullable = true)\n",
      " |-- launched_at: string (nullable = true)\n",
      " |-- staff_pick: string (nullable = true)\n",
      " |-- backers_count: string (nullable = true)\n",
      " |-- deadlineTime: string (nullable = true)\n",
      " |-- state_changed_atTime: string (nullable = true)\n",
      " |-- created_atTime: string (nullable = true)\n",
      " |-- launched_atTime: string (nullable = true)\n",
      " |-- Categories: string (nullable = true)\n",
      " |-- spotLight: string (nullable = true)\n",
      " |-- pledgedUSD: string (nullable = true)\n",
      " |-- Ex_USd: string (nullable = true)\n",
      " |-- deadlineYM: string (nullable = true)\n",
      " |-- state_changed_atYM: string (nullable = true)\n",
      " |-- created_atYM: string (nullable = true)\n",
      " |-- launched_atYM: string (nullable = true)\n",
      " |-- deadlineY: string (nullable = true)\n",
      " |-- state_changed_atY: string (nullable = true)\n",
      " |-- created_atY: string (nullable = true)\n",
      " |-- launched_atY: string (nullable = true)\n",
      " |-- Pledge_per_person: string (nullable = true)\n",
      " |-- Prct_goal: string (nullable = true)\n",
      " |-- Length_of_kick: string (nullable = true)\n",
      " |-- City_Pop: string (nullable = true)\n",
      " |-- Latitude: string (nullable = true)\n",
      " |-- Longitude: string (nullable = true)\n",
      " |-- County: string (nullable = true)\n",
      " |-- State: string (nullable = true)\n",
      " |-- Backers_as_Prct_of_Pop: string (nullable = true)\n",
      " |-- Backers_as_Prct_of_Pop_YM: string (nullable = true)\n",
      " |-- Backers_as_Prct_of_Pop_Y: string (nullable = true)\n",
      " |-- Days_spent_making_campign: string (nullable = true)\n",
      " |-- Days_inception_to_Deadline: string (nullable = true)\n",
      " |-- Backers_in_city_Y: string (nullable = true)\n",
      " |-- Backers_in_city_YM: string (nullable = true)\n",
      " |-- All_Time_Backers_city: double (nullable = true)\n",
      " |-- Mean_Pledge_City: string (nullable = true)\n",
      " |-- Mean_pledge_city_Y: string (nullable = true)\n",
      " |-- Mean_pledge_city_YM: string (nullable = true)\n",
      "\n"
     ]
    }
   ],
   "source": [
    "##### PRINT THE SCHEMA DETAILS OF THE CSV DATA\n",
    "kickstart.printSchema()"
   ]
  },
  {
   "cell_type": "code",
   "execution_count": 6,
   "metadata": {},
   "outputs": [],
   "source": [
    "##### CREATE SQL VIEW \n",
    "kickstart.createOrReplaceTempView('kickstartsqltab')\n"
   ]
  },
  {
   "cell_type": "code",
   "execution_count": 7,
   "metadata": {},
   "outputs": [
    {
     "name": "stdout",
     "output_type": "stream",
     "text": [
      "+------+----------------+------------+\n",
      "|status|      categories|projectCount|\n",
      "+------+----------------+------------+\n",
      "|  live|      technology|        1112|\n",
      "|  live|      journalism|         111|\n",
      "|  live|         fashion|         855|\n",
      "|  live|          design|        2149|\n",
      "|  live|      publishing|        1269|\n",
      "|  live|           music|         862|\n",
      "|  live|          comics|         222|\n",
      "|  live|           dance|          47|\n",
      "|  live|film%20&%20video|        1257|\n",
      "|  live|           games|        1796|\n",
      "|  live|         theater|         109|\n",
      "|  live|            food|         220|\n",
      "|  live|             art|         200|\n",
      "|  live|          crafts|          92|\n",
      "|  live|     photography|         128|\n",
      "+------+----------------+------------+\n",
      "\n"
     ]
    }
   ],
   "source": [
    "##### NUMBER AND STATUS OF PROJECTS IN A 'LIVE' STATUS\n",
    "results = spark.sql(\"SELECT status,categories,count(*) as projectCount FROM kickstartsqltab where status='live' group by status,categories \")\n",
    "results.show()"
   ]
  },
  {
   "cell_type": "code",
   "execution_count": 8,
   "metadata": {},
   "outputs": [
    {
     "name": "stdout",
     "output_type": "stream",
     "text": [
      "+----------+----------------+------------+\n",
      "|    status|      categories|projectCount|\n",
      "+----------+----------------+------------+\n",
      "|successful|          comics|         694|\n",
      "|successful|             art|        3568|\n",
      "|successful|          crafts|         137|\n",
      "|successful|film%20&%20video|        3210|\n",
      "|successful|           music|       11019|\n",
      "|successful|            food|         789|\n",
      "|successful|           games|        1951|\n",
      "|successful|          design|        1499|\n",
      "|successful|      publishing|        6544|\n",
      "|successful|     photography|         681|\n",
      "|successful|           dance|         133|\n",
      "|successful|      journalism|         110|\n",
      "|successful|         fashion|         813|\n",
      "|successful|      technology|        2805|\n",
      "|successful|         theater|        1069|\n",
      "+----------+----------------+------------+\n",
      "\n"
     ]
    }
   ],
   "source": [
    "##### NUMBER AND STATUS OF PROJECTS IN A 'SUCCESSFULL' STATUS\n",
    "results = spark.sql(\"SELECT status,categories,count(*) as projectCount FROM kickstartsqltab where status='successful' group by status,categories \")\n",
    "results.show()"
   ]
  },
  {
   "cell_type": "code",
   "execution_count": 9,
   "metadata": {},
   "outputs": [
    {
     "name": "stdout",
     "output_type": "stream",
     "text": [
      "+--------+----------------+------------+\n",
      "|  status|      categories|projectCount|\n",
      "+--------+----------------+------------+\n",
      "|canceled|           music|         946|\n",
      "|canceled|             art|         641|\n",
      "|canceled|      journalism|         101|\n",
      "|canceled|           games|         193|\n",
      "|canceled|         theater|         129|\n",
      "|canceled|      publishing|         465|\n",
      "|canceled|          crafts|          82|\n",
      "|canceled|          comics|          46|\n",
      "|canceled|     photography|         220|\n",
      "|canceled|         fashion|         123|\n",
      "|canceled|          design|          37|\n",
      "|canceled|      technology|        1334|\n",
      "|canceled|film%20&%20video|         664|\n",
      "|canceled|           dance|           8|\n",
      "|canceled|            food|         242|\n",
      "+--------+----------------+------------+\n",
      "\n"
     ]
    }
   ],
   "source": [
    "##### NUMBER AND STATUS OF PROJECTS IN A 'CANCELED' STATUS\n",
    "results = spark.sql(\"SELECT status,categories,count(*) as projectCount FROM kickstartsqltab where status='canceled' group by status,categories \")\n",
    "results.show()"
   ]
  },
  {
   "cell_type": "code",
   "execution_count": 10,
   "metadata": {},
   "outputs": [
    {
     "name": "stdout",
     "output_type": "stream",
     "text": [
      "+---------+----------------+------------+\n",
      "|   status|      categories|projectCount|\n",
      "+---------+----------------+------------+\n",
      "|suspended|             art|          24|\n",
      "|suspended|           music|          41|\n",
      "|suspended|      technology|         113|\n",
      "|suspended|      journalism|           8|\n",
      "|suspended|     photography|          13|\n",
      "|suspended|         theater|           3|\n",
      "|suspended|film%20&%20video|          18|\n",
      "|suspended|         fashion|           5|\n",
      "|suspended|           games|          19|\n",
      "|suspended|          design|           1|\n",
      "|suspended|          crafts|           8|\n",
      "|suspended|      publishing|          16|\n",
      "|suspended|            food|          27|\n",
      "+---------+----------------+------------+\n",
      "\n"
     ]
    }
   ],
   "source": [
    "##### NUMBER AND STATUS OF PROJECTS IN A 'SUSPENDED' STATUS\n",
    "results = spark.sql(\"SELECT status,categories,count(*) as projectCount FROM kickstartsqltab where status='suspended' group by status,categories \")\n",
    "results.show()"
   ]
  },
  {
   "cell_type": "code",
   "execution_count": 11,
   "metadata": {},
   "outputs": [
    {
     "name": "stdout",
     "output_type": "stream",
     "text": [
      "+------+----------------+------------+\n",
      "|status|      categories|projectCount|\n",
      "+------+----------------+------------+\n",
      "|failed|     photography|        1366|\n",
      "|failed|           music|        8348|\n",
      "|failed|      journalism|         506|\n",
      "|failed|      technology|        7430|\n",
      "|failed|          crafts|         399|\n",
      "|failed|      publishing|       10821|\n",
      "|failed|           games|        1235|\n",
      "|failed|          design|         199|\n",
      "|failed|film%20&%20video|        3126|\n",
      "|failed|         theater|         723|\n",
      "|failed|             art|        4984|\n",
      "|failed|         fashion|        1103|\n",
      "|failed|          comics|         315|\n",
      "|failed|           dance|          63|\n",
      "|failed|            food|        2166|\n",
      "+------+----------------+------------+\n",
      "\n"
     ]
    }
   ],
   "source": [
    "##### NUMBER AND STATUS OF PROJECTS IN A 'FAILED' STATUS\n",
    "results = spark.sql(\"SELECT status,categories,count(*) as projectCount FROM kickstartsqltab where status='failed' group by status,categories \")\n",
    "results.show()"
   ]
  },
  {
   "cell_type": "code",
   "execution_count": 12,
   "metadata": {},
   "outputs": [
    {
     "name": "stdout",
     "output_type": "stream",
     "text": [
      "+---+---+----+-------+----+---+----+-----+----+-------+------+----+---------------------+--------+---------------+----------------------+--------+----------------+----------+-----------+----------+-------------+------------+--------------------+--------------+---------------+----------+---------+----------+------+----------+------------------+------------+-------------+---------+-----------------+-----------+------------+-----------------+---------+--------------+--------+--------+---------+------+-----+----------------------+-------------------------+------------------------+-------------------------+--------------------------+-----------------+------------------+---------------------+----------------+------------------+-------------------+\n",
      "|_c0| X1|X1_1|Country|City| id|name|blurb|goal|pledged|status|slug|disable_communication|currency|currency_symbol|currency_trailing_code|deadline|state_changed_at|created_at|launched_at|staff_pick|backers_count|deadlineTime|state_changed_atTime|created_atTime|launched_atTime|Categories|spotLight|pledgedUSD|Ex_USd|deadlineYM|state_changed_atYM|created_atYM|launched_atYM|deadlineY|state_changed_atY|created_atY|launched_atY|Pledge_per_person|Prct_goal|Length_of_kick|City_Pop|Latitude|Longitude|County|State|Backers_as_Prct_of_Pop|Backers_as_Prct_of_Pop_YM|Backers_as_Prct_of_Pop_Y|Days_spent_making_campign|Days_inception_to_Deadline|Backers_in_city_Y|Backers_in_city_YM|All_Time_Backers_city|Mean_Pledge_City|Mean_pledge_city_Y|Mean_pledge_city_YM|\n",
      "+---+---+----+-------+----+---+----+-----+----+-------+------+----+---------------------+--------+---------------+----------------------+--------+----------------+----------+-----------+----------+-------------+------------+--------------------+--------------+---------------+----------+---------+----------+------+----------+------------------+------------+-------------+---------+-----------------+-----------+------------+-----------------+---------+--------------+--------+--------+---------+------+-----+----------------------+-------------------------+------------------------+-------------------------+--------------------------+-----------------+------------------+---------------------+----------------+------------------+-------------------+\n",
      "|  0|659| 726|    746| 750|752| 753|  753|3478|   3516|  3522|3524|                 3524|    3525|           3525|                  3525|    3525|            3525|      3525|       3525|      3525|         3525|        3525|                3525|          3525|           3525|      3525|     3525|      3525|  3525|      3525|              3525|        3525|         3525|     3525|             3525|       3525|        3525|             3525|     3525|          3525|    3525|    3525|     3525|  3525| 3525|                  3525|                     3598|                    3603|                     3603|                      5727|             6095|              6226|                 6274|            6285|              6299|               6302|\n",
      "+---+---+----+-------+----+---+----+-----+----+-------+------+----+---------------------+--------+---------------+----------------------+--------+----------------+----------+-----------+----------+-------------+------------+--------------------+--------------+---------------+----------+---------+----------+------+----------+------------------+------------+-------------+---------+-----------------+-----------+------------+-----------------+---------+--------------+--------+--------+---------+------+-----+----------------------+-------------------------+------------------------+-------------------------+--------------------------+-----------------+------------------+---------------------+----------------+------------------+-------------------+\n",
      "\n"
     ]
    }
   ],
   "source": [
    "\n",
    "##### NUMBER OF COLUMNS/RECORDS THAT HAS EITHER 'NA' OR 'NULL' STATUS\n",
    "\n",
    "from pyspark.sql.functions import isnan,when, count,col\n",
    "kickstart.select([count(when(isnan(c) | col(c).isNull(),c)).alias(c) for c in kickstart.columns]).show()"
   ]
  },
  {
   "cell_type": "code",
   "execution_count": 13,
   "metadata": {},
   "outputs": [],
   "source": [
    "##### LIST OF COLUMNS THAT CAN BE DROPPED FROM FURTHER ANALYSIS\n",
    "to_drop= [\n",
    "          '_c0','X1','X1_1','id','slug','currency_symbol','currency_trailing_code','disable_communication','staff_pick',\n",
    "            'state_changed_atTime','created_atTime','launched_atTime','spotLight','Ex_USd','Latitude','Longitude',\n",
    "        'deadlineYM','state_changed_atYM','created_atYM','launched_atYM','Backers_as_Prct_of_Pop_YM','Backers_in_city_YM',\n",
    "        'Mean_Pledge_City','Mean_pledge_city_Y','Mean_pledge_city_YM'\n",
    "         ]\n",
    "\n"
   ]
  },
  {
   "cell_type": "code",
   "execution_count": 14,
   "metadata": {},
   "outputs": [],
   "source": [
    "\n",
    "##### DROP THE UNNECESSARY COLUMNS\n",
    "##### DATAFRAME: KSprep\n",
    "\n",
    "KSprep=kickstart.drop(*to_drop)"
   ]
  },
  {
   "cell_type": "code",
   "execution_count": 15,
   "metadata": {},
   "outputs": [
    {
     "data": {
      "text/plain": [
       "57"
      ]
     },
     "execution_count": 15,
     "metadata": {},
     "output_type": "execute_result"
    }
   ],
   "source": [
    "##### NUMBER OF COLUMNS BEFORE DROPPING COLUMNS\n",
    "##### DATAFRAME: kickstart\n",
    "len(kickstart.columns)"
   ]
  },
  {
   "cell_type": "code",
   "execution_count": 16,
   "metadata": {},
   "outputs": [
    {
     "data": {
      "text/plain": [
       "32"
      ]
     },
     "execution_count": 16,
     "metadata": {},
     "output_type": "execute_result"
    }
   ],
   "source": [
    "##### NUMBER OF COLUMNS BEFORE AFTER COLUMNS\n",
    "##### DATAFRAME: KSprep\n",
    "len(kickstart.columns)\n",
    "len(KSprep.columns)"
   ]
  },
  {
   "cell_type": "code",
   "execution_count": 17,
   "metadata": {},
   "outputs": [
    {
     "data": {
      "text/plain": [
       "102561"
      ]
     },
     "execution_count": 17,
     "metadata": {},
     "output_type": "execute_result"
    }
   ],
   "source": [
    "##### NUMBER OF RECORDS BEFORE DROPPING 'NA'\n",
    "##### DATAFRAME: kickstart\n",
    "len(kickstart.columns)\n",
    "kickstart.count()"
   ]
  },
  {
   "cell_type": "code",
   "execution_count": 18,
   "metadata": {},
   "outputs": [
    {
     "data": {
      "text/plain": [
       "96287"
      ]
     },
     "execution_count": 18,
     "metadata": {},
     "output_type": "execute_result"
    }
   ],
   "source": [
    "##### NUMBER OF RECORDS AFTER DROPPING 'NA'\n",
    "##### DATAFRAME: KSprep\n",
    "KSprep.na.drop().count()"
   ]
  },
  {
   "cell_type": "code",
   "execution_count": 19,
   "metadata": {},
   "outputs": [],
   "source": [
    "##### ADD COLUMN FOR VISUALISATION AND PATTERN ANALYSIS\n",
    "##### DATAFRAME: KSprepVar\n",
    "from pyspark.sql.functions import length\n",
    "KSprepVar=KSprep.withColumn('BlurbLen',length(KSprep.blurb))"
   ]
  },
  {
   "cell_type": "code",
   "execution_count": 20,
   "metadata": {},
   "outputs": [
    {
     "name": "stdout",
     "output_type": "stream",
     "text": [
      "+--------------------+--------+\n",
      "|               blurb|BlurbLen|\n",
      "+--------------------+--------+\n",
      "|A 100 page Artboo...|     134|\n",
      "|Wordsmith! The st...|     133|\n",
      "|The Postnatalist ...|     135|\n",
      "|Alkandros Designs...|     127|\n",
      "|A feature length ...|     117|\n",
      "|Homemade Rustic P...|     113|\n",
      "|A superhero comic...|     132|\n",
      "|Cheerin is an exc...|     133|\n",
      "|\"We aim to show p...|     120|\n",
      "|Profoundly deaf c...|     131|\n",
      "+--------------------+--------+\n",
      "only showing top 10 rows\n",
      "\n"
     ]
    }
   ],
   "source": [
    "##### VIEW THE NEW DATA\n",
    "KSprepVar.select('blurb','BlurbLen').show(10)"
   ]
  },
  {
   "cell_type": "code",
   "execution_count": 21,
   "metadata": {},
   "outputs": [],
   "source": [
    "##### READ DATA FROM NEW AND CLEAN CSV\n",
    "##### DATAFRAME: kickstart_final\n",
    "kickstart_final= spark.read.option(\"multiline\",\"true\").option(\"header\", \"true\").option(\"delimiter\", \",\").option(\"inferSchema\", \"true\").csv('./MasterKickstarter01.csv')"
   ]
  },
  {
   "cell_type": "code",
   "execution_count": 23,
   "metadata": {},
   "outputs": [
    {
     "name": "stdout",
     "output_type": "stream",
     "text": [
      "root\n",
      " |-- _c0: integer (nullable = true)\n",
      " |-- X1: integer (nullable = true)\n",
      " |-- X1_1: integer (nullable = true)\n",
      " |-- Country: string (nullable = true)\n",
      " |-- City: string (nullable = true)\n",
      " |-- id: integer (nullable = true)\n",
      " |-- goal: string (nullable = true)\n",
      " |-- pledged: double (nullable = true)\n",
      " |-- status: string (nullable = true)\n",
      " |-- slug: string (nullable = true)\n",
      " |-- disable_communication: boolean (nullable = true)\n",
      " |-- currency: string (nullable = true)\n",
      " |-- currency_symbol: string (nullable = true)\n",
      " |-- currency_trailing_code: boolean (nullable = true)\n",
      " |-- deadline: string (nullable = true)\n",
      " |-- state_changed_at: string (nullable = true)\n",
      " |-- created_at: string (nullable = true)\n",
      " |-- launched_at: string (nullable = true)\n",
      " |-- staff_pick: boolean (nullable = true)\n",
      " |-- backers_count: integer (nullable = true)\n",
      " |-- deadlineTime: integer (nullable = true)\n",
      " |-- state_changed_atTime: integer (nullable = true)\n",
      " |-- created_atTime: integer (nullable = true)\n",
      " |-- launched_atTime: integer (nullable = true)\n",
      " |-- Categories: string (nullable = true)\n",
      " |-- spotLight: boolean (nullable = true)\n",
      " |-- pledgedUSD: double (nullable = true)\n",
      " |-- Ex_USd: string (nullable = true)\n",
      " |-- deadlineYM: string (nullable = true)\n",
      " |-- state_changed_atYM: string (nullable = true)\n",
      " |-- created_atYM: string (nullable = true)\n",
      " |-- launched_atYM: string (nullable = true)\n",
      " |-- deadlineY: integer (nullable = true)\n",
      " |-- state_changed_atY: integer (nullable = true)\n",
      " |-- created_atY: integer (nullable = true)\n",
      " |-- launched_atY: integer (nullable = true)\n",
      " |-- Pledge_per_person: string (nullable = true)\n",
      " |-- Prct_goal: double (nullable = true)\n",
      " |-- Length_of_kick: integer (nullable = true)\n",
      " |-- City_Pop: integer (nullable = true)\n",
      " |-- Latitude: double (nullable = true)\n",
      " |-- Longitude: double (nullable = true)\n",
      " |-- County: string (nullable = true)\n",
      " |-- State: string (nullable = true)\n",
      " |-- Backers_as_Prct_of_Pop: double (nullable = true)\n",
      " |-- Backers_as_Prct_of_Pop_YM: double (nullable = true)\n",
      " |-- Backers_as_Prct_of_Pop_Y: double (nullable = true)\n",
      " |-- Days_spent_making_campign: integer (nullable = true)\n",
      " |-- Days_inception_to_Deadline: integer (nullable = true)\n",
      " |-- Backers_in_city_Y: integer (nullable = true)\n",
      " |-- Backers_in_city_YM: integer (nullable = true)\n",
      " |-- All_Time_Backers_city: integer (nullable = true)\n",
      " |-- Mean_Pledge_City: string (nullable = true)\n",
      " |-- Mean_pledge_city_Y: string (nullable = true)\n",
      " |-- Mean_pledge_city_YM: double (nullable = true)\n",
      "\n"
     ]
    }
   ],
   "source": [
    "##### READ THE SCHEMA OF NEW INPUT FILE\n",
    "kickstart_final.printSchema()"
   ]
  },
  {
   "cell_type": "code",
   "execution_count": 22,
   "metadata": {},
   "outputs": [
    {
     "data": {
      "text/plain": [
       "30"
      ]
     },
     "execution_count": 22,
     "metadata": {},
     "output_type": "execute_result"
    }
   ],
   "source": [
    "##### RE-ITERATE\n",
    "#### DROP THE UNNECESSARY COLUMNS\n",
    "##### DATAFRAME: kickstart_final_clean\n",
    "\n",
    "kickstart_final_clean=kickstart_final.drop(*to_drop)\n",
    "len(kickstart_final_clean.columns)"
   ]
  },
  {
   "cell_type": "code",
   "execution_count": 24,
   "metadata": {},
   "outputs": [],
   "source": [
    "#### data preparation\n",
    "#### CREATE A UDF TO CONVERT STRING TYPE 'STATUS' VALUE TO INTEGER TYPE 'STATUS_FLAG COLUMN' \n",
    "\n",
    "from pyspark.sql.functions import udf\n",
    "from pyspark.sql.types import *\n",
    "\n",
    "def calculate_status(status):\n",
    "    if status == 'live':\n",
    "     return 1\n",
    "    if status=='successful':\n",
    "     return 1\n",
    "    if status=='failed':\n",
    "     return 0\n",
    "    if status=='canceled':\n",
    "     return 0\n",
    "    if status=='suspended':\n",
    "     return 0"
   ]
  },
  {
   "cell_type": "code",
   "execution_count": 27,
   "metadata": {},
   "outputs": [
    {
     "data": {
      "text/plain": [
       "31"
      ]
     },
     "execution_count": 27,
     "metadata": {},
     "output_type": "execute_result"
    }
   ],
   "source": [
    "#### ADD NEW COLUMN WITH UDF\n",
    "#### DATAFRAME: KSfinal\n",
    "KSudf= udf(calculate_status, IntegerType())\n",
    "KSfinal= kickstart_final_clean.withColumn('status_flag',KSudf(kickstart_final_clean.status))\n",
    "\n",
    "#number of columns after adding status_flag\n",
    "len(KSfinal.columns)"
   ]
  },
  {
   "cell_type": "code",
   "execution_count": 28,
   "metadata": {},
   "outputs": [
    {
     "name": "stdout",
     "output_type": "stream",
     "text": [
      "+----------+-----------+\n",
      "|    status|status_flag|\n",
      "+----------+-----------+\n",
      "|    failed|          0|\n",
      "|successful|          1|\n",
      "|    failed|          0|\n",
      "|      live|          1|\n",
      "|    failed|          0|\n",
      "|      live|          1|\n",
      "|      live|          1|\n",
      "|    failed|          0|\n",
      "|successful|          1|\n",
      "|successful|          1|\n",
      "+----------+-----------+\n",
      "only showing top 10 rows\n",
      "\n"
     ]
    }
   ],
   "source": [
    "\n",
    "#### VIEW DATA OF NEW COLUMN\n",
    "KSfinal.select('status','status_flag').show(10)"
   ]
  },
  {
   "cell_type": "code",
   "execution_count": 29,
   "metadata": {},
   "outputs": [
    {
     "name": "stdout",
     "output_type": "stream",
     "text": [
      "root\n",
      " |-- Country: string (nullable = true)\n",
      " |-- City: string (nullable = true)\n",
      " |-- goal: string (nullable = true)\n",
      " |-- pledged: double (nullable = true)\n",
      " |-- status: string (nullable = true)\n",
      " |-- currency: string (nullable = true)\n",
      " |-- deadline: string (nullable = true)\n",
      " |-- state_changed_at: string (nullable = true)\n",
      " |-- created_at: string (nullable = true)\n",
      " |-- launched_at: string (nullable = true)\n",
      " |-- backers_count: integer (nullable = true)\n",
      " |-- deadlineTime: integer (nullable = true)\n",
      " |-- Categories: string (nullable = true)\n",
      " |-- pledgedUSD: double (nullable = true)\n",
      " |-- deadlineY: integer (nullable = true)\n",
      " |-- state_changed_atY: integer (nullable = true)\n",
      " |-- created_atY: integer (nullable = true)\n",
      " |-- launched_atY: integer (nullable = true)\n",
      " |-- Pledge_per_person: string (nullable = true)\n",
      " |-- Prct_goal: double (nullable = true)\n",
      " |-- Length_of_kick: integer (nullable = true)\n",
      " |-- City_Pop: integer (nullable = true)\n",
      " |-- County: string (nullable = true)\n",
      " |-- State: string (nullable = true)\n",
      " |-- Backers_as_Prct_of_Pop: double (nullable = true)\n",
      " |-- Backers_as_Prct_of_Pop_Y: double (nullable = true)\n",
      " |-- Days_spent_making_campign: integer (nullable = true)\n",
      " |-- Days_inception_to_Deadline: integer (nullable = true)\n",
      " |-- Backers_in_city_Y: integer (nullable = true)\n",
      " |-- All_Time_Backers_city: integer (nullable = true)\n",
      " |-- status_flag: integer (nullable = true)\n",
      "\n"
     ]
    }
   ],
   "source": [
    "#### PRINT SCHEMA DETAILS AFTER READING NEW COLUMN\n",
    "KSfinal.printSchema()"
   ]
  },
  {
   "cell_type": "code",
   "execution_count": 30,
   "metadata": {},
   "outputs": [],
   "source": [
    "#DATA MINING LIBRARIES\n",
    "\n",
    "from pyspark.ml import Pipeline\n",
    "from pyspark.ml.classification import (RandomForestClassifier, GBTClassifier, DecisionTreeClassifier)\n",
    "from pyspark.ml import Pipeline\n",
    "from pyspark.ml.classification import DecisionTreeClassifier\n",
    "from pyspark.ml.feature import IndexToString, StringIndexer, VectorIndexer\n",
    "from pyspark.ml.evaluation import MulticlassClassificationEvaluator\n",
    "from pyspark.ml.classification import RandomForestClassifier\n",
    "from pyspark.ml.linalg import Vectors\n",
    "from pyspark.ml.feature import VectorAssembler"
   ]
  },
  {
   "cell_type": "code",
   "execution_count": 31,
   "metadata": {},
   "outputs": [],
   "source": [
    "#### PREPARE 'LABELS' AND 'FEATURES' FOR ANALYSIS\n",
    "\n",
    "#SELECT FEATURES AND TRANSFORM TO VECTOR TYPE\n",
    "assembler = VectorAssembler(\n",
    "    inputCols=[\"pledged\", \"deadlineTime\", \"backers_count\", \"pledgedUSD\",\"deadlineY\",\"state_changed_atY\",\"created_atY\",\n",
    "               \"launched_atY\",\"Prct_goal\",\"Length_of_kick\",\"Backers_in_city_Y\",\"All_Time_Backers_city\",\"Days_inception_to_Deadline\",\"Days_spent_making_campign\",\"City_Pop\",\n",
    "               \"Backers_as_Prct_of_Pop\",\"Backers_as_Prct_of_Pop_Y\"\n",
    "    ],\n",
    "    outputCol=\"features\")\n",
    "output = assembler.transform(KSfinal)\n",
    "\n",
    "#SELECT LABEL/TARGET ATTRIBUTE IN STRING TYPE FORMAT\n",
    "labelIndexer = StringIndexer(inputCol=\"status\", outputCol=\"indexedLabel\").fit(output)\n",
    "featureIndexer = VectorIndexer(inputCol=\"features\", outputCol=\"indexedFeatures\", maxCategories=4).fit(output)"
   ]
  },
  {
   "cell_type": "code",
   "execution_count": 32,
   "metadata": {},
   "outputs": [],
   "source": [
    "#### SELECT THE TEST AND TRAINING DATA SPLIT\n",
    "(trainingData, testData) = output.randomSplit([0.7, 0.3])"
   ]
  },
  {
   "cell_type": "code",
   "execution_count": 33,
   "metadata": {},
   "outputs": [],
   "source": [
    "#### ALGORITHM-1\n",
    "#### RANDOM FOREST\n",
    "\n",
    "#ASSIGN LABELS, FEATURES AND TREE LENGTH\n",
    "rf = RandomForestClassifier(labelCol=\"indexedLabel\", featuresCol=\"indexedFeatures\", numTrees=10)\n"
   ]
  },
  {
   "cell_type": "code",
   "execution_count": 34,
   "metadata": {},
   "outputs": [],
   "source": [
    "#### CONVERT BACK THE INDEX LABEL TO STRING FOR FURTHER REFERENCE\n",
    "labelConverter = IndexToString(inputCol=\"prediction\", outputCol=\"predictedLabel\", labels=labelIndexer.labels)"
   ]
  },
  {
   "cell_type": "code",
   "execution_count": 35,
   "metadata": {},
   "outputs": [],
   "source": [
    "#### CREATE PIPELINE OF LABEL,FEATURE AND RF TREE\n",
    "pipeline = Pipeline(stages=[labelIndexer, featureIndexer, rf, labelConverter])\n"
   ]
  },
  {
   "cell_type": "code",
   "execution_count": 36,
   "metadata": {},
   "outputs": [],
   "source": [
    "#### RUN MODEL FOR TRAINING DATA\n",
    "model = pipeline.fit(trainingData)"
   ]
  },
  {
   "cell_type": "code",
   "execution_count": 37,
   "metadata": {},
   "outputs": [
    {
     "name": "stdout",
     "output_type": "stream",
     "text": [
      "+--------------+--------------------+\n",
      "|predictedLabel|            features|\n",
      "+--------------+--------------------+\n",
      "|    successful|[1019.0,6584.0,27...|\n",
      "|          live|[0.0,64023.0,0.0,...|\n",
      "|        failed|[5692.0,65062.0,1...|\n",
      "|    successful|[5265.0,66999.0,5...|\n",
      "|          live|[243.0,28242.0,7....|\n",
      "+--------------+--------------------+\n",
      "only showing top 5 rows\n",
      "\n"
     ]
    }
   ],
   "source": [
    "#### RUN MODEL FOR TESTING DATA AND MAKE PREDICTIONS\n",
    "predictions = model.transform(testData)\n",
    "\n",
    "#### SELECT A SAMPLE OF PREDICTIONS\n",
    "predictions.select(\"predictedLabel\",\"features\").show(5)"
   ]
  },
  {
   "cell_type": "code",
   "execution_count": 38,
   "metadata": {},
   "outputs": [
    {
     "name": "stdout",
     "output_type": "stream",
     "text": [
      "Test Error = 0.14235\n",
      "RandomForestClassificationModel (uid=rfc_f5d6e3218e1b) with 10 trees\n"
     ]
    }
   ],
   "source": [
    "#### EVALUATE THE PREDICTION AND CALCULATE ERROR IN ACCURACY\n",
    "evaluator = MulticlassClassificationEvaluator(\n",
    "    labelCol=\"indexedLabel\", predictionCol=\"prediction\", metricName=\"accuracy\")\n",
    "accuracy = evaluator.evaluate(predictions)\n",
    "print(\"Test Error = %g\" % (1.0 - accuracy))\n",
    "\n",
    "#MODEL DESCRIPTION\n",
    "rfModel = model.stages[2]\n",
    "print(rfModel) "
   ]
  },
  {
   "cell_type": "code",
   "execution_count": 39,
   "metadata": {},
   "outputs": [],
   "source": [
    "#### ALGORITHM-2\n",
    "#### DECESION TREE\n",
    "\n",
    "#ASSIGN LABELS, FEATURES AND TREE LENGTH\n",
    "dt = DecisionTreeClassifier(labelCol=\"indexedLabel\", featuresCol=\"indexedFeatures\")"
   ]
  },
  {
   "cell_type": "code",
   "execution_count": 40,
   "metadata": {},
   "outputs": [],
   "source": [
    "#### CREATE PIPELINE OF LABEL,FEATURE AND DT\n",
    "pipeline2 = Pipeline(stages=[labelIndexer, featureIndexer, dt])\n"
   ]
  },
  {
   "cell_type": "code",
   "execution_count": 41,
   "metadata": {},
   "outputs": [],
   "source": [
    "#### RUN MODEL FOR TRAINING DATA\n",
    "model2 = pipeline2.fit(trainingData)"
   ]
  },
  {
   "cell_type": "code",
   "execution_count": 42,
   "metadata": {},
   "outputs": [
    {
     "name": "stdout",
     "output_type": "stream",
     "text": [
      "+----------+------------+--------------------+\n",
      "|prediction|indexedLabel|            features|\n",
      "+----------+------------+--------------------+\n",
      "|       1.0|         2.0|[1019.0,6584.0,27...|\n",
      "|       2.0|         0.0|[0.0,64023.0,0.0,...|\n",
      "|       0.0|         0.0|[5692.0,65062.0,1...|\n",
      "|       1.0|         1.0|[5265.0,66999.0,5...|\n",
      "|       2.0|         0.0|[243.0,28242.0,7....|\n",
      "+----------+------------+--------------------+\n",
      "only showing top 5 rows\n",
      "\n"
     ]
    }
   ],
   "source": [
    "#### RUN MODEL FOR TESTING DATA AND MAKE PREDICTIONS\n",
    "predictions2 = model2.transform(testData)\n",
    "\n",
    "#### SELECT A SAMPLE OF PREDICTIONS\n",
    "predictions2.select(\"prediction\", \"indexedLabel\", \"features\").show(5)\n"
   ]
  },
  {
   "cell_type": "code",
   "execution_count": 43,
   "metadata": {},
   "outputs": [
    {
     "name": "stdout",
     "output_type": "stream",
     "text": [
      "Test Error = 0.143364 \n",
      "DecisionTreeClassificationModel (uid=DecisionTreeClassifier_44b8abbc40dec4f78d0d) of depth 5 with 63 nodes\n"
     ]
    }
   ],
   "source": [
    "#### EVALUATE THE PREDICTION AND CALCULATE ERROR IN ACCURACY\n",
    "evaluator2 = MulticlassClassificationEvaluator(\n",
    "    labelCol=\"indexedLabel\", predictionCol=\"prediction\", metricName=\"accuracy\")\n",
    "accuracy2 = evaluator2.evaluate(predictions2)\n",
    "print(\"Test Error = %g \" % (1.0 - accuracy2))\n",
    "\n",
    "#MODEL DESCRIPTION\n",
    "treeModel = model2.stages[2]\n",
    "print(treeModel)"
   ]
  },
  {
   "cell_type": "code",
   "execution_count": 44,
   "metadata": {},
   "outputs": [],
   "source": [
    "#### ALGORITHM-3\n",
    "#### GRADIENT-BOOSTED TREES -GBT\n",
    "\n",
    "#ASSIGN LABELS, FEATURES AND TREE LENGTH\n",
    "labelIndexer = StringIndexer(inputCol=\"status_flag\", outputCol=\"indexedLabel\").fit(output)\n",
    "gbt = GBTClassifier(labelCol=\"indexedLabel\", featuresCol=\"indexedFeatures\", maxIter=10)"
   ]
  },
  {
   "cell_type": "code",
   "execution_count": 45,
   "metadata": {},
   "outputs": [],
   "source": [
    "#### CREATE PIPELINE OF LABEL,FEATURE AND GBT\n",
    "pipeline3 = Pipeline(stages=[labelIndexer, featureIndexer, gbt])\n"
   ]
  },
  {
   "cell_type": "code",
   "execution_count": 46,
   "metadata": {},
   "outputs": [],
   "source": [
    "#### RUN MODEL FOR TRAINING DATA\n",
    "model3 = pipeline3.fit(trainingData)"
   ]
  },
  {
   "cell_type": "code",
   "execution_count": 47,
   "metadata": {},
   "outputs": [
    {
     "name": "stdout",
     "output_type": "stream",
     "text": [
      "+----------+------------+--------------------+\n",
      "|prediction|indexedLabel|            features|\n",
      "+----------+------------+--------------------+\n",
      "|       1.0|         1.0|[1019.0,6584.0,27...|\n",
      "|       1.0|         0.0|[0.0,64023.0,0.0,...|\n",
      "|       0.0|         0.0|[5692.0,65062.0,1...|\n",
      "|       1.0|         1.0|[5265.0,66999.0,5...|\n",
      "|       1.0|         0.0|[243.0,28242.0,7....|\n",
      "+----------+------------+--------------------+\n",
      "only showing top 5 rows\n",
      "\n"
     ]
    }
   ],
   "source": [
    "#### RUN MODEL FOR TESTING DATA AND MAKE PREDICTIONS\n",
    "predictions3 = model3.transform(testData)\n",
    "\n",
    "#### SELECT A SAMPLE OF PREDICTIONS\n",
    "predictions3.select(\"prediction\", \"indexedLabel\", \"features\").show(5)"
   ]
  },
  {
   "cell_type": "code",
   "execution_count": 48,
   "metadata": {},
   "outputs": [
    {
     "name": "stdout",
     "output_type": "stream",
     "text": [
      "Test Error = 0.0684362\n",
      "GBTClassificationModel (uid=GBTClassifier_4586b7adbb069d7c6c96) with 10 trees\n"
     ]
    }
   ],
   "source": [
    "#### EVALUATE THE PREDICTION AND CALCULATE ERROR IN ACCURACY\n",
    "evaluator3 = MulticlassClassificationEvaluator(\n",
    "    labelCol=\"indexedLabel\", predictionCol=\"prediction\", metricName=\"accuracy\")\n",
    "accuracy3 = evaluator3.evaluate(predictions3)\n",
    "print(\"Test Error = %g\" % (1.0 - accuracy3))\n",
    "\n",
    "#MODEL DESCRIPTION\n",
    "gbtModel = model3.stages[2]\n",
    "print(gbtModel) "
   ]
  },
  {
   "cell_type": "code",
   "execution_count": null,
   "metadata": {},
   "outputs": [],
   "source": []
  }
 ],
 "metadata": {
  "kernelspec": {
   "display_name": "Python 3",
   "language": "python",
   "name": "python3"
  },
  "language_info": {
   "codemirror_mode": {
    "name": "ipython",
    "version": 3
   },
   "file_extension": ".py",
   "mimetype": "text/x-python",
   "name": "python",
   "nbconvert_exporter": "python",
   "pygments_lexer": "ipython3",
   "version": "3.5.2"
  }
 },
 "nbformat": 4,
 "nbformat_minor": 2
}
